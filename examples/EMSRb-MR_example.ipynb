{
 "cells": [
  {
   "cell_type": "markdown",
   "metadata": {},
   "source": [
    "# EMSRb / EMSRb-MR example\n",
    "\n",
    "In this example, we demonstrate the calculation of booking limits using both the traditional __EMSRb__ algorithm and the more recent __EMSRb-MR__ algorithm. MR stands for marginal revenue transformation - this transformation (also called \"fare transformation\") transforms the demands and prices in such a way that traditional optimisers designed for independent demand can also be used in the realm of less restricted fare structures. \n",
    "\n",
    "The example data given here corresponds to a fully unrestricted fare structure and is taken from the following reference:\n",
    "\n",
    "`[1]` Fiig et al: Optimization of Mixed Fare Structures: Theory and Applications _Journal of Revenue and Pricing Management_, 9, 1, 152–170 (2010)\n",
    "\n",
    "As of December 2016, this article was publicly available here: http://citeseerx.ist.psu.edu/viewdoc/download?doi=10.1.1.474.1315&rep=rep1&type=pdf"
   ]
  },
  {
   "cell_type": "code",
   "execution_count": 1,
   "metadata": {
    "collapsed": false
   },
   "outputs": [],
   "source": [
    "import sys\n",
    "\n",
    "import numpy as np\n",
    "import pandas as pd\n",
    "\n",
    "sys.path.append('../')\n",
    "from pyrm.pyrm import protection_levels\n",
    "from pyrm.helpers import cumulative_booking_limits\n",
    "from pyrm.fare_transformation import calc_fare_transformation"
   ]
  },
  {
   "cell_type": "markdown",
   "metadata": {},
   "source": [
    "## 1) Define example data"
   ]
  },
  {
   "cell_type": "code",
   "execution_count": 2,
   "metadata": {
    "collapsed": false
   },
   "outputs": [],
   "source": [
    "fares = np.array([1200, 1000, 800, 600, 400, 200])\n",
    "demands = np.array([31.2, 10.9, 14.8, 19.9, 26.9, 36.3])\n",
    "sigmas = np.array([11.2, 6.6, 7.7, 8.9, 10.4, 12])\n",
    "capacity = 100\n",
    "classes = np.arange(len(fares)) + 1\n",
    "class_names = [\"class_{}\".format(c) for c in classes]"
   ]
  },
  {
   "cell_type": "markdown",
   "metadata": {},
   "source": [
    "## 2) Carry out the fare transformation"
   ]
  },
  {
   "cell_type": "code",
   "execution_count": 18,
   "metadata": {
    "collapsed": true
   },
   "outputs": [],
   "source": [
    "adjusted_fares, adjusted_demand, Q, TR = calc_fare_transformation(fares, demands, return_all=True)"
   ]
  },
  {
   "cell_type": "markdown",
   "metadata": {},
   "source": [
    "## 3) Reproduce table 1 from ref. `[1]`\n",
    "Note: \n",
    "- here, `Q` and `TR` are only reproduced for the fully undifferentiated case\n",
    "- classes with negative adjusted fare have a NaN in `Q` and `TR`, since inefficient fares are removed during the fare transformation routine\n",
    "- some values slightly differ from the values shown in ref. `[1]`, probably due to rounding errors"
   ]
  },
  {
   "cell_type": "code",
   "execution_count": 19,
   "metadata": {
    "collapsed": false
   },
   "outputs": [
    {
     "data": {
      "text/html": [
       "<div>\n",
       "<table border=\"1\" class=\"dataframe\">\n",
       "  <thead>\n",
       "    <tr style=\"text-align: right;\">\n",
       "      <th></th>\n",
       "      <th>fares</th>\n",
       "      <th>demand</th>\n",
       "      <th>Q</th>\n",
       "      <th>TR</th>\n",
       "      <th>MR/adjusted fares</th>\n",
       "    </tr>\n",
       "  </thead>\n",
       "  <tbody>\n",
       "    <tr>\n",
       "      <th>class_1</th>\n",
       "      <td>1200.0</td>\n",
       "      <td>31.2</td>\n",
       "      <td>31.2</td>\n",
       "      <td>37440.0</td>\n",
       "      <td>1200.000000</td>\n",
       "    </tr>\n",
       "    <tr>\n",
       "      <th>class_2</th>\n",
       "      <td>1000.0</td>\n",
       "      <td>10.9</td>\n",
       "      <td>42.1</td>\n",
       "      <td>42100.0</td>\n",
       "      <td>427.522936</td>\n",
       "    </tr>\n",
       "    <tr>\n",
       "      <th>class_3</th>\n",
       "      <td>800.0</td>\n",
       "      <td>14.8</td>\n",
       "      <td>56.9</td>\n",
       "      <td>45520.0</td>\n",
       "      <td>231.081081</td>\n",
       "    </tr>\n",
       "    <tr>\n",
       "      <th>class_4</th>\n",
       "      <td>600.0</td>\n",
       "      <td>19.9</td>\n",
       "      <td>76.8</td>\n",
       "      <td>46080.0</td>\n",
       "      <td>28.140704</td>\n",
       "    </tr>\n",
       "    <tr>\n",
       "      <th>class_5</th>\n",
       "      <td>400.0</td>\n",
       "      <td>26.9</td>\n",
       "      <td>NaN</td>\n",
       "      <td>NaN</td>\n",
       "      <td>NaN</td>\n",
       "    </tr>\n",
       "    <tr>\n",
       "      <th>class_6</th>\n",
       "      <td>200.0</td>\n",
       "      <td>36.3</td>\n",
       "      <td>NaN</td>\n",
       "      <td>NaN</td>\n",
       "      <td>NaN</td>\n",
       "    </tr>\n",
       "  </tbody>\n",
       "</table>\n",
       "</div>"
      ],
      "text/plain": [
       "          fares  demand     Q       TR  MR/adjusted fares\n",
       "class_1  1200.0    31.2  31.2  37440.0        1200.000000\n",
       "class_2  1000.0    10.9  42.1  42100.0         427.522936\n",
       "class_3   800.0    14.8  56.9  45520.0         231.081081\n",
       "class_4   600.0    19.9  76.8  46080.0          28.140704\n",
       "class_5   400.0    26.9   NaN      NaN                NaN\n",
       "class_6   200.0    36.3   NaN      NaN                NaN"
      ]
     },
     "execution_count": 19,
     "metadata": {},
     "output_type": "execute_result"
    }
   ],
   "source": [
    "data = np.transpose(np.vstack((fares, demands, Q, TR, adjusted_fares)))\n",
    "pd.DataFrame(data, index=class_names, columns=['fares', 'demand', 'Q', \n",
    "                                               'TR', 'MR/adjusted fares'])"
   ]
  },
  {
   "cell_type": "markdown",
   "metadata": {},
   "source": [
    "## 4a) Calculate EMSRb bookings limits"
   ]
  },
  {
   "cell_type": "code",
   "execution_count": 20,
   "metadata": {
    "collapsed": false
   },
   "outputs": [
    {
     "name": "stdout",
     "output_type": "stream",
     "text": [
      "[ 100.   80.   65.   46.   20.    0.]\n"
     ]
    }
   ],
   "source": [
    "p = protection_levels(fares, demands, sigmas, method='EMSRb')\n",
    "booking_limits_EMSRb = cumulative_booking_limits(p, capacity)\n",
    "\n",
    "print(booking_limits_EMSRb)"
   ]
  },
  {
   "cell_type": "markdown",
   "metadata": {},
   "source": [
    "## 4b) Calculate EMSRb-MR booking limits"
   ]
  },
  {
   "cell_type": "code",
   "execution_count": 21,
   "metadata": {
    "collapsed": false
   },
   "outputs": [
    {
     "name": "stdout",
     "output_type": "stream",
     "text": [
      "[ 100.   65.   48.   16.   nan   nan]\n"
     ]
    }
   ],
   "source": [
    "p = protection_levels(fares, demands, sigmas, method='EMSRb_MR')\n",
    "booking_limits_EMSRb_MR = cumulative_booking_limits(p, capacity)\n",
    "\n",
    "print(booking_limits_EMSRb_MR)"
   ]
  },
  {
   "cell_type": "markdown",
   "metadata": {},
   "source": [
    "## 5) Reproduce table 2 from  ref. `[1]`"
   ]
  },
  {
   "cell_type": "code",
   "execution_count": 23,
   "metadata": {
    "collapsed": false
   },
   "outputs": [
    {
     "data": {
      "text/html": [
       "<div>\n",
       "<table border=\"1\" class=\"dataframe\">\n",
       "  <thead>\n",
       "    <tr style=\"text-align: right;\">\n",
       "      <th></th>\n",
       "      <th>fares</th>\n",
       "      <th>demand</th>\n",
       "      <th>standard deviation</th>\n",
       "      <th>EMSRb limits</th>\n",
       "      <th>adjusted fares</th>\n",
       "      <th>EMSRb-MR limits</th>\n",
       "    </tr>\n",
       "  </thead>\n",
       "  <tbody>\n",
       "    <tr>\n",
       "      <th>class_1</th>\n",
       "      <td>1200.0</td>\n",
       "      <td>31.2</td>\n",
       "      <td>11.2</td>\n",
       "      <td>100.0</td>\n",
       "      <td>1200.000000</td>\n",
       "      <td>100.0</td>\n",
       "    </tr>\n",
       "    <tr>\n",
       "      <th>class_2</th>\n",
       "      <td>1000.0</td>\n",
       "      <td>10.9</td>\n",
       "      <td>6.6</td>\n",
       "      <td>80.0</td>\n",
       "      <td>427.522936</td>\n",
       "      <td>65.0</td>\n",
       "    </tr>\n",
       "    <tr>\n",
       "      <th>class_3</th>\n",
       "      <td>800.0</td>\n",
       "      <td>14.8</td>\n",
       "      <td>7.7</td>\n",
       "      <td>65.0</td>\n",
       "      <td>231.081081</td>\n",
       "      <td>48.0</td>\n",
       "    </tr>\n",
       "    <tr>\n",
       "      <th>class_4</th>\n",
       "      <td>600.0</td>\n",
       "      <td>19.9</td>\n",
       "      <td>8.9</td>\n",
       "      <td>46.0</td>\n",
       "      <td>28.140704</td>\n",
       "      <td>16.0</td>\n",
       "    </tr>\n",
       "    <tr>\n",
       "      <th>class_5</th>\n",
       "      <td>400.0</td>\n",
       "      <td>26.9</td>\n",
       "      <td>10.4</td>\n",
       "      <td>20.0</td>\n",
       "      <td>NaN</td>\n",
       "      <td>NaN</td>\n",
       "    </tr>\n",
       "    <tr>\n",
       "      <th>class_6</th>\n",
       "      <td>200.0</td>\n",
       "      <td>36.3</td>\n",
       "      <td>12.0</td>\n",
       "      <td>0.0</td>\n",
       "      <td>NaN</td>\n",
       "      <td>NaN</td>\n",
       "    </tr>\n",
       "  </tbody>\n",
       "</table>\n",
       "</div>"
      ],
      "text/plain": [
       "          fares  demand  standard deviation  EMSRb limits  adjusted fares  \\\n",
       "class_1  1200.0    31.2                11.2         100.0     1200.000000   \n",
       "class_2  1000.0    10.9                 6.6          80.0      427.522936   \n",
       "class_3   800.0    14.8                 7.7          65.0      231.081081   \n",
       "class_4   600.0    19.9                 8.9          46.0       28.140704   \n",
       "class_5   400.0    26.9                10.4          20.0             NaN   \n",
       "class_6   200.0    36.3                12.0           0.0             NaN   \n",
       "\n",
       "         EMSRb-MR limits  \n",
       "class_1            100.0  \n",
       "class_2             65.0  \n",
       "class_3             48.0  \n",
       "class_4             16.0  \n",
       "class_5              NaN  \n",
       "class_6              NaN  "
      ]
     },
     "execution_count": 23,
     "metadata": {},
     "output_type": "execute_result"
    }
   ],
   "source": [
    "data = np.transpose(np.vstack((fares, demands, sigmas, booking_limits_EMSRb, \n",
    "                               adjusted_fares, booking_limits_EMSRb_MR)))\n",
    "pd.DataFrame(data, index=class_names, columns=['fares', 'demand', 'standard deviation', \n",
    "                                               'EMSRb limits', 'adjusted fares', \n",
    "                                               'EMSRb-MR limits'])"
   ]
  },
  {
   "cell_type": "code",
   "execution_count": null,
   "metadata": {
    "collapsed": true
   },
   "outputs": [],
   "source": []
  }
 ],
 "metadata": {
  "kernelspec": {
   "display_name": "Python [Root]",
   "language": "python",
   "name": "Python [Root]"
  },
  "language_info": {
   "codemirror_mode": {
    "name": "ipython",
    "version": 3
   },
   "file_extension": ".py",
   "mimetype": "text/x-python",
   "name": "python",
   "nbconvert_exporter": "python",
   "pygments_lexer": "ipython3",
   "version": "3.5.2"
  }
 },
 "nbformat": 4,
 "nbformat_minor": 0
}
